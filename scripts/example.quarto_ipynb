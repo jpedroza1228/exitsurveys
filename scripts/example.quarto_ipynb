{
  "cells": [
    {
      "cell_type": "markdown",
      "metadata": {},
      "source": [
        "---\n",
        "title: \"Untitled\"\n",
        "format: html\n",
        "---"
      ],
      "id": "1e5d91fe"
    },
    {
      "cell_type": "code",
      "metadata": {},
      "source": [
        "import pandas as pd\n",
        "from matplotlib import rcParams \n",
        "import numpy as np\n",
        "import streamlit as st\n",
        "import plotnine as pn\n",
        "import plotly.express as px\n",
        "from great_tables import GT as gt\n",
        "from janitor import clean_names\n",
        "\n",
        "pd.set_option('mode.copy_on_write', True)\n",
        "pd.set_option('display.max_columns', None)\n",
        "rcParams.update({'savefig.bbox': 'tight'})\n",
        "\n",
        "grad = pd.read_csv(\"https://raw.githubusercontent.com/jpedroza1228/exitsurveys/main/data/full_grad.csv\").clean_names(case_type = 'snake')"
      ],
      "id": "68b148f4",
      "execution_count": null,
      "outputs": []
    },
    {
      "cell_type": "code",
      "metadata": {},
      "source": [
        "grad.head()\n",
        "\n",
        "grad.columns.tolist()"
      ],
      "id": "3798baf8",
      "execution_count": null,
      "outputs": []
    }
  ],
  "metadata": {
    "kernelspec": {
      "name": "python3",
      "language": "python",
      "display_name": "Python 3 (ipykernel)",
      "path": "/home/jon/.local/share/jupyter/kernels/python3"
    }
  },
  "nbformat": 4,
  "nbformat_minor": 5
}